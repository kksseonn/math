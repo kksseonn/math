{
 "cells": [
  {
   "cell_type": "markdown",
   "id": "6b9f74c2",
   "metadata": {
    "toc": true
   },
   "source": [
    "<h1>Table of Contents<span class=\"tocSkip\"></span></h1>\n",
    "<div class=\"toc\"><ul class=\"toc-item\"></ul></div>"
   ]
  },
  {
   "cell_type": "code",
   "execution_count": 13,
   "id": "bc22cd26",
   "metadata": {},
   "outputs": [],
   "source": [
    "import numpy as np\n",
    "import pandas as pd\n",
    "import matplotlib.pyplot as plt\n",
    "import scipy as sci\n",
    "import scipy.stats as st"
   ]
  },
  {
   "cell_type": "code",
   "execution_count": 14,
   "id": "42becb29",
   "metadata": {},
   "outputs": [],
   "source": [
    "#Строим доверительный интервал для a=M(X)"
   ]
  },
  {
   "cell_type": "code",
   "execution_count": 15,
   "id": "289b81fc",
   "metadata": {},
   "outputs": [],
   "source": [
    "### задаем параметры нормального распредеелния\n",
    "n=25\n",
    "a=0\n",
    "Sigma=1\n",
    "#########################################\n",
    "gamma=0.95 ### доверительная вероятность"
   ]
  },
  {
   "cell_type": "code",
   "execution_count": 16,
   "id": "2ca3859e",
   "metadata": {},
   "outputs": [],
   "source": [
    "#### генерируем выборку из нормально распределенной СВ X\n",
    "X= np.random.normal(a,Sigma,size = n)"
   ]
  },
  {
   "cell_type": "code",
   "execution_count": 17,
   "id": "daa7ce0b",
   "metadata": {},
   "outputs": [
    {
     "name": "stdout",
     "output_type": "stream",
     "text": [
      "t_gamma=F_s_INVERSE( 0.9772000000000001 )= 1.9990772149717708\n",
      "P(U< 1.9990772149717708 )=F_S( 1.9990772149717708 )= 0.9772000000000001\n"
     ]
    }
   ],
   "source": [
    "### Percent point function =ppf\n",
    "P_=(1 + 0.9544)/2\n",
    "t_gamma=st.norm.ppf(P_, loc=0, scale=1)\n",
    "print(\"t_gamma=F_s_INVERSE(\",P_,\")=\",t_gamma)\n",
    "ppp=st.norm.cdf(t_gamma, loc=0, scale=1)\n",
    "\n",
    "print(\"P(U<\",t_gamma,\")=F_S(\",t_gamma,\")=\",ppp)"
   ]
  },
  {
   "cell_type": "code",
   "execution_count": 18,
   "id": "18a8137d",
   "metadata": {},
   "outputs": [
    {
     "name": "stdout",
     "output_type": "stream",
     "text": [
      "доверительный интервал для параметра a\n"
     ]
    },
    {
     "data": {
      "text/plain": [
       "(-0.6621002678721233, 0.12188532594389839)"
      ]
     },
     "execution_count": 18,
     "metadata": {},
     "output_type": "execute_result"
    }
   ],
   "source": [
    "#### Вычисляем \"вручную\" границы интервальной оценки математического ожидания \n",
    "##нормально распределенной СВ X\n",
    "### для случая известной дисперсии\n",
    "#### \n",
    "P_=1/2+gamma/2\n",
    "t_gamma=st.norm.ppf(P_, loc=0, scale=1)\n",
    "a_left_ =X.mean()-Sigma*t_gamma/n**0.5\n",
    "a_right_=X.mean()+Sigma*t_gamma/n**0.5\n",
    "print('доверительный интервал для параметра a')\n",
    "(a_left_,a_right_)"
   ]
  },
  {
   "cell_type": "code",
   "execution_count": 20,
   "id": "3b04c706",
   "metadata": {},
   "outputs": [
    {
     "name": "stdout",
     "output_type": "stream",
     "text": [
      "(-0.6621002678721233, 0.12188532594389839)\n"
     ]
    }
   ],
   "source": [
    "#### Вычисляем \"вручную\" границы интервальной оценки математического ожидания \n",
    "##нормально распределенной СВ X\n",
    "### для случая известной дисперсии\n",
    "#### с помощью встроенных статистических функций Питона\n",
    "a_estimate=np.mean(X)\n",
    "interval_estimate_1=st.norm.interval(confidence=gamma, \n",
    "              loc=a_estimate,\n",
    "              scale=Sigma/np.sqrt(n)) \n",
    "print(interval_estimate_1)"
   ]
  },
  {
   "cell_type": "code",
   "execution_count": 20,
   "id": "2c645f90",
   "metadata": {},
   "outputs": [
    {
     "name": "stdout",
     "output_type": "stream",
     "text": [
      "2.0638985616280205\n",
      "[-0.37219653238587735, 0.31239492460687335]\n"
     ]
    }
   ],
   "source": [
    "#### Вычисляем границы интервальной оценки математического ожидания при неизвестной дисперсии\n",
    "#### \"вручную\"\n",
    "interval_for_MX_=[0]*2\n",
    "### Percent point function =ppf= Inverse CDF\n",
    "t_gamma_0=st.t.ppf(1/2+gamma/2, df=len(X)-1)\n",
    "print(t_gamma_0)\n",
    "a_estimate=np.mean(X)\n",
    "sigma_estimate=np.std(X,ddof=1)\n",
    "interval_for_MX_[0]=a_estimate-sigma_estimate*t_gamma_0/np.sqrt(n)\n",
    "interval_for_MX_[1]=a_estimate+sigma_estimate*t_gamma_0/np.sqrt(n)\n",
    "print(interval_for_MX_)"
   ]
  },
  {
   "cell_type": "code",
   "execution_count": 22,
   "id": "b06a8752",
   "metadata": {},
   "outputs": [
    {
     "name": "stdout",
     "output_type": "stream",
     "text": [
      "(-0.6489616782658302, 0.10874673633760534)\n"
     ]
    }
   ],
   "source": [
    "### Способ № 1\n",
    "#### Вычисляем границы интервальной оценки математического ожидания при неизвестной дисперсии\n",
    "#### с помощью встроенных статистических функц_0, df=len(X)-1,\n",
    "a_estimate=np.mean(X)\n",
    "sigma_estimate=np.std(X,ddof=1)\n",
    "interval_estimate_2=st.t.interval(confidence=gamma, df=len(X)-1,\n",
    "              loc=a_estimate,\n",
    "              scale=sigma_estimate/np.sqrt(n)) \n",
    "print(interval_estimate_2)"
   ]
  },
  {
   "cell_type": "code",
   "execution_count": 22,
   "id": "b4c5a5e2",
   "metadata": {},
   "outputs": [
    {
     "name": "stdout",
     "output_type": "stream",
     "text": [
      "(-0.3721965323858773, 0.3123949246068733)\n",
      "0.16584910463156172 0.16584910463156172\n"
     ]
    }
   ],
   "source": [
    "### Способ № 2\n",
    "#### Вычисляем границы интервальной оценки математического ожидания при неизвестной дисперсии\n",
    "#### с помощью встроенных статистических функций Питона\n",
    "interval_estimate_2=st.t.interval(alpha=gamma, df=len(X)-1,\n",
    "              loc=a_estimate,\n",
    "              scale=st.sem(X,ddof=1)) \n",
    "print(interval_estimate_2)\n",
    "##### ПРОВЕРКА \n",
    "##### ПРИ ВЫЗОВ\n",
    "sigma_estimate=np.std(X,ddof=1)\n",
    "print(st.sem(X,ddof=1),sigma_estimate/np.sqrt(n))"
   ]
  },
  {
   "cell_type": "code",
   "execution_count": null,
   "id": "9f611365",
   "metadata": {},
   "outputs": [],
   "source": []
  },
  {
   "cell_type": "code",
   "execution_count": 24,
   "id": "3e1d4376",
   "metadata": {},
   "outputs": [
    {
     "data": {
      "text/plain": [
       "[<matplotlib.lines.Line2D at 0x2768d145e50>]"
      ]
     },
     "execution_count": 24,
     "metadata": {},
     "output_type": "execute_result"
    },
    {
     "data": {
      "image/png": "[encoded data removed]",
      "text/plain": [
       "<Figure size 432x288 with 1 Axes>"
      ]
     },
     "metadata": {
      "needs_background": "light"
     },
     "output_type": "display_data"
    }
   ],
   "source": [
    "##### Изучаем зависимость точности интервальной оценки для MX при известной дисперсии от надежности \n",
    "#### при неизменном объему выборки\n",
    "#################################\n",
    "sample = np.random.normal(a, Sigma, n)\n",
    "a_estimate=np.mean(sample)\n",
    "##################################\n",
    "V=500\n",
    "### массив gamma_ будет содержать V значений надежности\n",
    "gamma_=[0.0]*V\n",
    "### массив delta_ будет содержать V значений длин доверительных интервалов, отвечающих соответствующим надежностям\n",
    "delta_=[0.0]*V\n",
    "gamma__0=0.7\n",
    "gamma__1=0.9999999999\n",
    "h=(gamma__1-gamma__0)/V\n",
    "for i in range(V):\n",
    "    gamma_[i]=gamma__0+i*h\n",
    "    interval_estimate_MX=st.norm.interval(alpha=gamma_[i], \n",
    "              loc=a_estimate, \n",
    "              scale=Sigma/np.sqrt(n)) \n",
    "    delta_[i]=interval_estimate_MX[1]-interval_estimate_MX[0]\n",
    "###print(delta_)\n",
    "plt.plot(gamma_,delta_)"
   ]
  },
  {
   "cell_type": "markdown",
   "id": "6ca52915",
   "metadata": {},
   "source": [
    "Материалы к Лабораторной Работе №2"
   ]
  },
  {
   "cell_type": "markdown",
   "id": "c0207e45",
   "metadata": {},
   "source": [
    "НОРМАЛЬНОЕ РАСПРЕДЕЛЕНИЕ. Оценивание надежности интервальной оценки M(X)"
   ]
  },
  {
   "cell_type": "code",
   "execution_count": 42,
   "id": "7e2bbed8",
   "metadata": {},
   "outputs": [
    {
     "data": {
      "text/plain": [
       "(2.064, 2.0638985616280205)"
      ]
     },
     "execution_count": 42,
     "metadata": {},
     "output_type": "execute_result"
    }
   ],
   "source": [
    "### задаем параметры нормального распредеелния\n",
    "n=25\n",
    "a=0\n",
    "Sigma=1\n",
    "gamma_=0.95\n",
    "P_=1/2+gamma_/2####  уровень квантиля\n",
    "#########################################\n",
    "t_gamma=2.064 ## n=25###  gamma_=0.95  см. приложение 8\n",
    "t_gamma_=st.t.ppf(P_, df=n-1)### ищем t_gamma с помощью встроенной функции ppf\n",
    "(t_gamma,t_gamma_)"
   ]
  },
  {
   "cell_type": "code",
   "execution_count": 48,
   "id": "8ea006af",
   "metadata": {},
   "outputs": [
    {
     "name": "stdout",
     "output_type": "stream",
     "text": [
      "[0.948, 0.947, 0.9525, 0.94675, 0.95375, 0.9445, 0.9495, 0.953, 0.9545, 0.94775, 0.94925, 0.94925, 0.95, 0.95075, 0.95025, 0.94875, 0.95175, 0.9475, 0.9505, 0.94925, 0.94875, 0.9465, 0.94825, 0.95375, 0.94775, 0.946, 0.947, 0.94925, 0.9545, 0.951, 0.943, 0.9485, 0.945, 0.948, 0.95175, 0.9535, 0.9445, 0.94725, 0.9545, 0.9495, 0.94575, 0.946, 0.95025, 0.95225, 0.952, 0.951, 0.9465, 0.9485, 0.94925, 0.94275, 0.948, 0.95425, 0.951, 0.95325, 0.95275, 0.947, 0.9515, 0.94825, 0.9475, 0.9525, 0.9515, 0.95575, 0.95325, 0.9455, 0.9505, 0.94825, 0.947, 0.94825, 0.95675, 0.9505, 0.9535, 0.945, 0.949, 0.952, 0.94625, 0.94825, 0.947, 0.943, 0.952, 0.952, 0.9535, 0.9435, 0.95, 0.9505, 0.95375, 0.94825, 0.95075, 0.94925, 0.94775, 0.9475, 0.9535, 0.95125, 0.9435, 0.95425, 0.946, 0.95375, 0.95325, 0.952, 0.949, 0.952]\n"
     ]
    }
   ],
   "source": [
    "V=100 ### число точечных оценок надежности gamma=0.95\n",
    "M=4000 ### число интервальных оценок\n",
    "################################\n",
    "COUNT_=[0]*V\n",
    "P_hat=[0.0]*V\n",
    "a_left=[0.0]*M\n",
    "a_right=[0.0]*M\n",
    "for j in range(V):\n",
    "    for i in range(M):\n",
    "        X= np.random.normal(a,Sigma,size = n)\n",
    "        S=np.std(X,ddof=1)\n",
    "        a_left[i] =X.mean()-S*t_gamma/n**0.5\n",
    "        a_right[i]=X.mean()+S*t_gamma/n**0.5\n",
    "    s0=pd.Series(data=a_left)\n",
    "    s1=pd.Series(data=a_right)\n",
    "    COUNT_[j]=((s0<a)&(s1>a)).sum()\n",
    "    P_hat[j]=COUNT_[j]/M\n",
    "print(P_hat)"
   ]
  },
  {
   "cell_type": "code",
   "execution_count": 56,
   "id": "1cea6167",
   "metadata": {},
   "outputs": [
    {
     "name": "stdout",
     "output_type": "stream",
     "text": [
      "0.9496149999999999 0.0031535654024413056 100\n"
     ]
    }
   ],
   "source": [
    "print(np.mean(P_hat),np.std(P_hat,ddof=1),len(P_hat))"
   ]
  },
  {
   "cell_type": "code",
   "execution_count": 57,
   "id": "ee866f80",
   "metadata": {},
   "outputs": [
    {
     "data": {
      "text/plain": [
       "[<matplotlib.lines.Line2D at 0x2768e95af70>]"
      ]
     },
     "execution_count": 57,
     "metadata": {},
     "output_type": "execute_result"
    },
    {
     "data": {
      "image/png": "[encoded data removed]",
      "text/plain": [
       "<Figure size 432x288 with 1 Axes>"
      ]
     },
     "metadata": {
      "needs_background": "light"
     },
     "output_type": "display_data"
    }
   ],
   "source": [
    "plt.plot(P_hat)"
   ]
  },
  {
   "cell_type": "code",
   "execution_count": 58,
   "id": "3cc6d893",
   "metadata": {},
   "outputs": [
    {
     "data": {
      "image/png": "[encoded data removed]",
      "text/plain": [
       "<Figure size 432x288 with 1 Axes>"
      ]
     },
     "metadata": {
      "needs_background": "light"
     },
     "output_type": "display_data"
    }
   ],
   "source": [
    "count, bins, ignored  = plt.hist(P_hat,bins='sturges',color='g',density='True')"
   ]
  },
  {
   "cell_type": "code",
   "execution_count": 55,
   "id": "35601c02",
   "metadata": {},
   "outputs": [
    {
     "name": "stdout",
     "output_type": "stream",
     "text": [
      "AxesSubplot(0.125,0.125;0.775x0.755)\n"
     ]
    },
    {
     "name": "stderr",
     "output_type": "stream",
     "text": [
      "C:\\Users\\admin\\anaconda3\\lib\\site-packages\\seaborn\\_decorators.py:36: FutureWarning: Pass the following variable as a keyword arg: x. From version 0.12, the only valid positional argument will be `data`, and passing other arguments without an explicit keyword will result in an error or misinterpretation.\n",
      "  warnings.warn(\n"
     ]
    },
    {
     "data": {
      "image/png": "[encoded data removed]",
      "text/plain": [
       "<Figure size 432x288 with 1 Axes>"
      ]
     },
     "metadata": {
      "needs_background": "light"
     },
     "output_type": "display_data"
    }
   ],
   "source": [
    "import seaborn as sb\n",
    "W=sb.boxplot(P_hat)\n",
    "print(W)"
   ]
  },
  {
   "cell_type": "raw",
   "id": "6f9d88ad",
   "metadata": {},
   "source": [
    "# НОРМАЛЬНОЕ РАСПРЕДЕЛЕНИЕ. Оценивание надежности интервальной оценки D(X)"
   ]
  },
  {
   "cell_type": "code",
   "execution_count": 62,
   "id": "73721bdf",
   "metadata": {},
   "outputs": [
    {
     "name": "stdout",
     "output_type": "stream",
     "text": [
      "39.4 39.36407702660391\n",
      "12.4 12.401150217444439\n"
     ]
    }
   ],
   "source": [
    "n=25\n",
    "delta_0=39.4 ### n=25 см. приложение 4\n",
    "delta_1=12.4 ### n=25 см. приложение 4\n",
    "\n",
    "P_0=1/2+gamma_/2####  уровень квантиля\n",
    "P_1=1/2-gamma_/2####  уровень квантиля\n",
    "#########################################\n",
    "delta_00=st.chi2.ppf(P_0, df=n-1)### ищем квантили с помощью встроенной функции ppf\n",
    "delta_11=st.chi2.ppf(P_1, df=n-1)\n",
    "print(delta_0,delta_00)\n",
    "print(delta_1,delta_11)"
   ]
  },
  {
   "cell_type": "code",
   "execution_count": 63,
   "id": "d2c488e7",
   "metadata": {},
   "outputs": [
    {
     "name": "stdout",
     "output_type": "stream",
     "text": [
      "[0.9535, 0.94775, 0.952, 0.95425, 0.9565, 0.949, 0.9475, 0.95225, 0.95375, 0.95625, 0.948, 0.953, 0.947, 0.95375, 0.951, 0.95025, 0.94425, 0.95025, 0.95225, 0.9505, 0.9525, 0.9565, 0.95175, 0.94625, 0.951, 0.94675, 0.95325, 0.95175, 0.949, 0.95075, 0.948, 0.95175, 0.95175, 0.94875, 0.9495, 0.948, 0.951, 0.95275, 0.9505, 0.95475, 0.955, 0.94725, 0.9525, 0.94925, 0.94775, 0.955, 0.95, 0.95075, 0.95, 0.95325]\n"
     ]
    }
   ],
   "source": [
    "V=50 ### число точечных оценок надежности gamma=0.95\n",
    "M=4000 ### число интервальных оценок\n",
    "COUNT_=[0]*V\n",
    "sigma_left=[0.0]*M\n",
    "sigma_right=[0.0]*M\n",
    "COUNT_=[0]*V\n",
    "S2_left=[0.0]*M\n",
    "type(S2_left)\n",
    "S2_right=[0.0]*M\n",
    "for j in range(V):\n",
    "    for i in range(M):\n",
    "        X= np.random.normal(a,Sigma,size = n) ### \n",
    "        DX=Sigma**2\n",
    "        D_hat=np.var(X,ddof=1)\n",
    "        S2_left[i] =(n-1)*D_hat/delta_0\n",
    "        S2_right[i]=(n-1)*D_hat/delta_1\n",
    "    s0=pd.Series(data=S2_left)\n",
    "    s1=pd.Series(data=S2_right)\n",
    "    COUNT_[j]=((s0<DX)&(s1>DX)).sum()\n",
    "    COUNT_[j]=COUNT_[j]/M\n",
    "print(COUNT_)"
   ]
  },
  {
   "cell_type": "code",
   "execution_count": 60,
   "id": "a9d845b6",
   "metadata": {},
   "outputs": [
    {
     "data": {
      "text/html": [
       "<div>\n",
       "<style scoped>\n",
       "    .dataframe tbody tr th:only-of-type {\n",
       "        vertical-align: middle;\n",
       "    }\n",
       "\n",
       "    .dataframe tbody tr th {\n",
       "        vertical-align: top;\n",
       "    }\n",
       "\n",
       "    .dataframe thead th {\n",
       "        text-align: right;\n",
       "    }\n",
       "</style>\n",
       "<table border=\"1\" class=\"dataframe\">\n",
       "  <thead>\n",
       "    <tr style=\"text-align: right;\">\n",
       "      <th></th>\n",
       "      <th>COUNT</th>\n",
       "    </tr>\n",
       "  </thead>\n",
       "  <tbody>\n",
       "    <tr>\n",
       "      <th>0</th>\n",
       "      <td>0.94950</td>\n",
       "    </tr>\n",
       "    <tr>\n",
       "      <th>1</th>\n",
       "      <td>0.95225</td>\n",
       "    </tr>\n",
       "    <tr>\n",
       "      <th>2</th>\n",
       "      <td>0.95350</td>\n",
       "    </tr>\n",
       "    <tr>\n",
       "      <th>3</th>\n",
       "      <td>0.94775</td>\n",
       "    </tr>\n",
       "    <tr>\n",
       "      <th>4</th>\n",
       "      <td>0.94950</td>\n",
       "    </tr>\n",
       "    <tr>\n",
       "      <th>5</th>\n",
       "      <td>0.94850</td>\n",
       "    </tr>\n",
       "    <tr>\n",
       "      <th>6</th>\n",
       "      <td>0.94625</td>\n",
       "    </tr>\n",
       "    <tr>\n",
       "      <th>7</th>\n",
       "      <td>0.95375</td>\n",
       "    </tr>\n",
       "    <tr>\n",
       "      <th>8</th>\n",
       "      <td>0.95225</td>\n",
       "    </tr>\n",
       "    <tr>\n",
       "      <th>9</th>\n",
       "      <td>0.95075</td>\n",
       "    </tr>\n",
       "    <tr>\n",
       "      <th>10</th>\n",
       "      <td>0.94975</td>\n",
       "    </tr>\n",
       "    <tr>\n",
       "      <th>11</th>\n",
       "      <td>0.94550</td>\n",
       "    </tr>\n",
       "    <tr>\n",
       "      <th>12</th>\n",
       "      <td>0.94575</td>\n",
       "    </tr>\n",
       "    <tr>\n",
       "      <th>13</th>\n",
       "      <td>0.94525</td>\n",
       "    </tr>\n",
       "    <tr>\n",
       "      <th>14</th>\n",
       "      <td>0.95050</td>\n",
       "    </tr>\n",
       "    <tr>\n",
       "      <th>15</th>\n",
       "      <td>0.95075</td>\n",
       "    </tr>\n",
       "    <tr>\n",
       "      <th>16</th>\n",
       "      <td>0.94475</td>\n",
       "    </tr>\n",
       "    <tr>\n",
       "      <th>17</th>\n",
       "      <td>0.94750</td>\n",
       "    </tr>\n",
       "    <tr>\n",
       "      <th>18</th>\n",
       "      <td>0.94775</td>\n",
       "    </tr>\n",
       "    <tr>\n",
       "      <th>19</th>\n",
       "      <td>0.94150</td>\n",
       "    </tr>\n",
       "    <tr>\n",
       "      <th>20</th>\n",
       "      <td>0.94875</td>\n",
       "    </tr>\n",
       "    <tr>\n",
       "      <th>21</th>\n",
       "      <td>0.94725</td>\n",
       "    </tr>\n",
       "    <tr>\n",
       "      <th>22</th>\n",
       "      <td>0.95750</td>\n",
       "    </tr>\n",
       "    <tr>\n",
       "      <th>23</th>\n",
       "      <td>0.95275</td>\n",
       "    </tr>\n",
       "    <tr>\n",
       "      <th>24</th>\n",
       "      <td>0.95125</td>\n",
       "    </tr>\n",
       "    <tr>\n",
       "      <th>25</th>\n",
       "      <td>0.94725</td>\n",
       "    </tr>\n",
       "    <tr>\n",
       "      <th>26</th>\n",
       "      <td>0.95600</td>\n",
       "    </tr>\n",
       "    <tr>\n",
       "      <th>27</th>\n",
       "      <td>0.94900</td>\n",
       "    </tr>\n",
       "    <tr>\n",
       "      <th>28</th>\n",
       "      <td>0.95475</td>\n",
       "    </tr>\n",
       "    <tr>\n",
       "      <th>29</th>\n",
       "      <td>0.95275</td>\n",
       "    </tr>\n",
       "    <tr>\n",
       "      <th>30</th>\n",
       "      <td>0.95125</td>\n",
       "    </tr>\n",
       "    <tr>\n",
       "      <th>31</th>\n",
       "      <td>0.95350</td>\n",
       "    </tr>\n",
       "    <tr>\n",
       "      <th>32</th>\n",
       "      <td>0.95850</td>\n",
       "    </tr>\n",
       "    <tr>\n",
       "      <th>33</th>\n",
       "      <td>0.94875</td>\n",
       "    </tr>\n",
       "    <tr>\n",
       "      <th>34</th>\n",
       "      <td>0.95100</td>\n",
       "    </tr>\n",
       "    <tr>\n",
       "      <th>35</th>\n",
       "      <td>0.95350</td>\n",
       "    </tr>\n",
       "    <tr>\n",
       "      <th>36</th>\n",
       "      <td>0.94450</td>\n",
       "    </tr>\n",
       "    <tr>\n",
       "      <th>37</th>\n",
       "      <td>0.95225</td>\n",
       "    </tr>\n",
       "    <tr>\n",
       "      <th>38</th>\n",
       "      <td>0.95150</td>\n",
       "    </tr>\n",
       "    <tr>\n",
       "      <th>39</th>\n",
       "      <td>0.94575</td>\n",
       "    </tr>\n",
       "    <tr>\n",
       "      <th>40</th>\n",
       "      <td>0.95900</td>\n",
       "    </tr>\n",
       "    <tr>\n",
       "      <th>41</th>\n",
       "      <td>0.95275</td>\n",
       "    </tr>\n",
       "    <tr>\n",
       "      <th>42</th>\n",
       "      <td>0.95475</td>\n",
       "    </tr>\n",
       "    <tr>\n",
       "      <th>43</th>\n",
       "      <td>0.95450</td>\n",
       "    </tr>\n",
       "    <tr>\n",
       "      <th>44</th>\n",
       "      <td>0.95125</td>\n",
       "    </tr>\n",
       "    <tr>\n",
       "      <th>45</th>\n",
       "      <td>0.95350</td>\n",
       "    </tr>\n",
       "    <tr>\n",
       "      <th>46</th>\n",
       "      <td>0.95175</td>\n",
       "    </tr>\n",
       "    <tr>\n",
       "      <th>47</th>\n",
       "      <td>0.94525</td>\n",
       "    </tr>\n",
       "    <tr>\n",
       "      <th>48</th>\n",
       "      <td>0.95675</td>\n",
       "    </tr>\n",
       "    <tr>\n",
       "      <th>49</th>\n",
       "      <td>0.95400</td>\n",
       "    </tr>\n",
       "  </tbody>\n",
       "</table>\n",
       "</div>"
      ],
      "text/plain": [
       "      COUNT\n",
       "0   0.94950\n",
       "1   0.95225\n",
       "2   0.95350\n",
       "3   0.94775\n",
       "4   0.94950\n",
       "5   0.94850\n",
       "6   0.94625\n",
       "7   0.95375\n",
       "8   0.95225\n",
       "9   0.95075\n",
       "10  0.94975\n",
       "11  0.94550\n",
       "12  0.94575\n",
       "13  0.94525\n",
       "14  0.95050\n",
       "15  0.95075\n",
       "16  0.94475\n",
       "17  0.94750\n",
       "18  0.94775\n",
       "19  0.94150\n",
       "20  0.94875\n",
       "21  0.94725\n",
       "22  0.95750\n",
       "23  0.95275\n",
       "24  0.95125\n",
       "25  0.94725\n",
       "26  0.95600\n",
       "27  0.94900\n",
       "28  0.95475\n",
       "29  0.95275\n",
       "30  0.95125\n",
       "31  0.95350\n",
       "32  0.95850\n",
       "33  0.94875\n",
       "34  0.95100\n",
       "35  0.95350\n",
       "36  0.94450\n",
       "37  0.95225\n",
       "38  0.95150\n",
       "39  0.94575\n",
       "40  0.95900\n",
       "41  0.95275\n",
       "42  0.95475\n",
       "43  0.95450\n",
       "44  0.95125\n",
       "45  0.95350\n",
       "46  0.95175\n",
       "47  0.94525\n",
       "48  0.95675\n",
       "49  0.95400"
      ]
     },
     "execution_count": 60,
     "metadata": {},
     "output_type": "execute_result"
    }
   ],
   "source": [
    "s=pd.DataFrame(data=COUNT_,columns=['COUNT'])\n",
    "s"
   ]
  },
  {
   "cell_type": "code",
   "execution_count": 66,
   "id": "f10c8b63",
   "metadata": {},
   "outputs": [
    {
     "data": {
      "image/png": "[encoded data removed]",
      "text/plain": [
       "<Figure size 432x288 with 1 Axes>"
      ]
     },
     "metadata": {
      "needs_background": "light"
     },
     "output_type": "display_data"
    }
   ],
   "source": [
    "count, bins, ignored  = plt.hist(COUNT_,bins='sturges',color='g',density='True')"
   ]
  },
  {
   "cell_type": "code",
   "execution_count": 64,
   "id": "b0265318",
   "metadata": {},
   "outputs": [
    {
     "data": {
      "text/plain": [
       "<AxesSubplot:>"
      ]
     },
     "execution_count": 64,
     "metadata": {},
     "output_type": "execute_result"
    },
    {
     "data": {
      "image/png": "[encoded data removed]",
      "text/plain": [
       "<Figure size 432x288 with 1 Axes>"
      ]
     },
     "metadata": {
      "needs_background": "light"
     },
     "output_type": "display_data"
    }
   ],
   "source": [
    "s.COUNT.plot()"
   ]
  },
  {
   "cell_type": "code",
   "execution_count": 65,
   "id": "922a9713",
   "metadata": {},
   "outputs": [
    {
     "data": {
      "text/plain": [
       "(COUNT    0.950685\n",
       " dtype: float64,\n",
       " COUNT    0.003903\n",
       " dtype: float64)"
      ]
     },
     "execution_count": 65,
     "metadata": {},
     "output_type": "execute_result"
    }
   ],
   "source": [
    "(s.mean(),s.std())"
   ]
  },
  {
   "cell_type": "code",
   "execution_count": null,
   "id": "e2cfa7c1",
   "metadata": {},
   "outputs": [],
   "source": []
  }
 ],
 "metadata": {
  "kernelspec": {
   "display_name": "Python 3",
   "language": "python",
   "name": "python3"
  },
  "language_info": {
   "codemirror_mode": {
    "name": "ipython",
    "version": 3
   },
   "file_extension": ".py",
   "mimetype": "text/x-python",
   "name": "python",
   "nbconvert_exporter": "python",
   "pygments_lexer": "ipython3",
   "version": "3.11.5"
  },
  "toc": {
   "base_numbering": 1,
   "nav_menu": {
    "height": "45px",
    "width": "188px"
   },
   "number_sections": true,
   "sideBar": true,
   "skip_h1_title": false,
   "title_cell": "Table of Contents",
   "title_sidebar": "Contents",
   "toc_cell": true,
   "toc_position": {},
   "toc_section_display": true,
   "toc_window_display": false
  }
 },
 "nbformat": 4,
 "nbformat_minor": 5
}
